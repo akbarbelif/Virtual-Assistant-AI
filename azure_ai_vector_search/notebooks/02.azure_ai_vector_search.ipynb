{
 "cells": [
  {
   "cell_type": "code",
   "execution_count": 1,
   "metadata": {},
   "outputs": [
    {
     "name": "stderr",
     "output_type": "stream",
     "text": [
      "c:\\Users\\belifakb\\Downloads\\UPM\\GEN-AI\\Development\\AZURE-AI-VECTOR-SEARCH\\openaiev\\lib\\site-packages\\tqdm\\auto.py:21: TqdmWarning: IProgress not found. Please update jupyter and ipywidgets. See https://ipywidgets.readthedocs.io/en/stable/user_install.html\n",
      "  from .autonotebook import tqdm as notebook_tqdm\n"
     ]
    }
   ],
   "source": [
    "from dotenv import load_dotenv,dotenv_values,find_dotenv\n",
    "import json\n",
    "import os\n",
    "from sentence_transformers import SentenceTransformer"
   ]
  },
  {
   "cell_type": "code",
   "execution_count": 2,
   "metadata": {},
   "outputs": [],
   "source": [
    "from azure.core.credentials import AzureKeyCredential  \n",
    "from azure.search.documents import SearchClient, SearchIndexingBufferedSender  \n",
    "from azure.search.documents.indexes import SearchIndexClient  \n",
    "from azure.search.documents.models import (\n",
    "    QueryAnswerType,\n",
    "    QueryCaptionType,\n",
    "    QueryCaptionResult,\n",
    "    QueryAnswerResult,\n",
    "    SemanticErrorMode,\n",
    "    SemanticErrorReason,\n",
    "    SemanticSearchResultsType,\n",
    "    QueryType,\n",
    "    VectorizedQuery,\n",
    "    VectorQuery,\n",
    "    VectorFilterMode,    \n",
    ")\n",
    "from azure.search.documents.indexes.models import (  \n",
    "    ExhaustiveKnnAlgorithmConfiguration,\n",
    "    ExhaustiveKnnParameters,\n",
    "    SearchIndex,  \n",
    "    SearchField,  \n",
    "    SearchFieldDataType,  \n",
    "    SimpleField,  \n",
    "    SearchableField,  \n",
    "    SearchIndex,  \n",
    "    SemanticConfiguration,  \n",
    "    SemanticPrioritizedFields,\n",
    "    SemanticField,  \n",
    "    SearchField,  \n",
    "    SemanticSearch,\n",
    "    VectorSearch,  \n",
    "    HnswAlgorithmConfiguration,\n",
    "    HnswParameters,  \n",
    "    VectorSearch,\n",
    "    VectorSearchAlgorithmConfiguration,\n",
    "    VectorSearchAlgorithmKind,\n",
    "    VectorSearchProfile,\n",
    "    SearchIndex,\n",
    "    SearchField,\n",
    "    SearchFieldDataType,\n",
    "    SimpleField,\n",
    "    SearchableField,\n",
    "    VectorSearch,\n",
    "    ExhaustiveKnnParameters,\n",
    "    SearchIndex,  \n",
    "    SearchField,  \n",
    "    SearchFieldDataType,  \n",
    "    SimpleField,  \n",
    "    SearchableField,  \n",
    "    SearchIndex,  \n",
    "    SemanticConfiguration,  \n",
    "    SemanticField,  \n",
    "    SearchField,  \n",
    "    VectorSearch,  \n",
    "    HnswParameters,  \n",
    "    VectorSearch,\n",
    "    VectorSearchAlgorithmKind,\n",
    "    VectorSearchAlgorithmMetric,\n",
    "    VectorSearchProfile,\n",
    ")  \n",
    "  \n",
    "# Configure environment variables  \n",
    "load_dotenv(find_dotenv(\"../.env.sample\"),override=True)\n",
    "service_endpoint = os.getenv(\"AZURE_SEARCH_SERVICE_ENDPOINT\") \n",
    "index_name = os.getenv(\"AZURE_SEARCH_INDEX_NAME\") \n",
    "key = os.getenv(\"AZURE_SEARCH_ADMIN_KEY\") \n",
    "model = os.getenv(\"MODEL_NAME\")\n",
    "credential = AzureKeyCredential(key)"
   ]
  },
  {
   "cell_type": "code",
   "execution_count": 3,
   "metadata": {},
   "outputs": [
    {
     "name": "stderr",
     "output_type": "stream",
     "text": [
      "c:\\Users\\belifakb\\Downloads\\UPM\\GEN-AI\\Development\\AZURE-AI-VECTOR-SEARCH\\openaiev\\lib\\site-packages\\torch\\_utils.py:831: UserWarning: TypedStorage is deprecated. It will be removed in the future and UntypedStorage will be the only storage class. This should only matter to you if you are using storages directly.  To access UntypedStorage directly, use tensor.untyped_storage() instead of tensor.storage()\n",
      "  return self.fget.__get__(instance, owner)()\n"
     ]
    }
   ],
   "source": [
    "model = SentenceTransformer(os.getenv(\"MODEL_NAME\"))"
   ]
  },
  {
   "cell_type": "code",
   "execution_count": 4,
   "metadata": {},
   "outputs": [
    {
     "name": "stdout",
     "output_type": "stream",
     "text": [
      "1536\n"
     ]
    }
   ],
   "source": [
    "from openai import AzureOpenAI\n",
    "import os\n",
    "\n",
    "client = AzureOpenAI(\n",
    "  api_key = os.getenv(\"AZURE_OPENAI_KEY\"), \n",
    "  api_version = \"2023-05-15\",\n",
    "  azure_endpoint = os.getenv(\"AZURE_OPENAI_ENDPOINT\")\n",
    ")\n",
    "model: str = os.getenv(\"AZURE_OPENAI_EMBEDDING_DEPLOYMENT_ID\")\n",
    "# MODEL_NAME: str = os.getenv(\"AZURE_OPENAI_EMBEDDING_DEPLOYMENT_ID\")\n",
    "\n",
    "# Function to generate embeddings for title and content fields, also used for query embeddings\n",
    "# @retry(wait=wait_random_exponential(min=1, max=20), stop=stop_after_attempt(6))\n",
    "def generate_embeddings(text, model=model):\n",
    "    return client.embeddings.create(input = [text], model=model).data[0].embedding\n",
    "\n",
    "query = \"How many incidents distinct state do we have?\"\n",
    "query_vector = generate_embeddings(query,model)\n",
    "print(len(query_vector))"
   ]
  },
  {
   "cell_type": "code",
   "execution_count": 5,
   "metadata": {},
   "outputs": [],
   "source": [
    "# # query = \"Segmentation\"  \n",
    "# query = \"FOR-IT Logistics & Harvesting\"\n",
    "# query_vector = model.encode([query])[0]\n",
    "# print(query_vector)"
   ]
  },
  {
   "cell_type": "markdown",
   "metadata": {},
   "source": [
    "### Vector Search"
   ]
  },
  {
   "cell_type": "code",
   "execution_count": 6,
   "metadata": {},
   "outputs": [
    {
     "name": "stdout",
     "output_type": "stream",
     "text": [
      "Score: 0.794375\n",
      "Captions: None\n",
      "Highlights: None\n",
      "Content: FOR-IT Logistics & Harvesting, FOREST, 2023-06-27 12:49:38, 2023-07-12 10:00:01, INC2586873, Trade 101499609 has wrong state, Trade 101499609 block 1 has wrong state in harvesting schedule. If trade is searched from trade search blocks status is shown as ended. Still there is logging residue forwarding block in harvest schedule with state of \"ohjelmassa\" Block seems to be stuck in schedule and user cannot do anything to that block. Please investigate issue. One possible solution is to change that logging residue forwarding work orders state to Ended., Data Issue, 4 - Low, Closed, Received closure confirmation from user., Solved (Permanently)\n",
      "\n",
      "Filename: incidents_2023_forest.xlsx\n",
      "\n",
      "###############################\n",
      "Score: 0.7938253\n",
      "Captions: None\n",
      "Highlights: None\n",
      "Content: WSS, FOREST, 2023-03-20 08:10:29, 2023-03-23 09:57:21, INC2567887, WSS, package is in stock, should be out of stock, Delivery note 23176010035 package 375035, this should be out of stock, this package have invoiced, invoice number is 1505913., Configuration Issue, 4 - Low, Closed, As per Sari's suggestion, we have done the operation. Now it looks okay. We are closing the incident., Solved (Permanently)\n",
      "\n",
      "Filename: incidents_2023_forest.xlsx\n",
      "\n",
      "###############################\n",
      "Score: 0.7937454\n",
      "Captions: None\n",
      "Highlights: None\n",
      "Content: WSS, FOREST, 2023-10-29 02:40:57, 2023-11-07 20:00:07, INC2608340, Major-l00srv2126-cdm__Average (2 samples) disk free on C:\\ is now 15%, which is below the warning threshold (15%) out of total size 91.5 GB, l00srv2126-Major-Average (2 samples) disk free on C:\\ is now 15%, which is below the warning threshold (15%) out of total size 91.5 GB, Data Space, 3 - Moderate, Closed, We removed some old logs now  free space is available ., Solved (Permanently)\n",
      "\n",
      "Filename: incidents_2023_forest.xlsx\n",
      "\n",
      "###############################\n"
     ]
    }
   ],
   "source": [
    " \n",
    "search_client = SearchClient(service_endpoint, index_name, AzureKeyCredential(key))  \n",
    "vector_query = VectorizedQuery(vector=query_vector, \n",
    "                               k_nearest_neighbors=3, \n",
    "                               fields=\"embedding\")\n",
    "\n",
    "results = search_client.search(  \n",
    "    search_text=None,  \n",
    "    vector_queries=[vector_query],\n",
    "    select=[\"line\", \"filename\"],\n",
    "    top=5\n",
    ")  \n",
    "  \n",
    "for result in results:  \n",
    "    print(f\"Score: {result['@search.score']}\")  \n",
    "    print(f\"Captions: {result['@search.captions']}\")  \n",
    "    print(f\"Highlights: {result['@search.highlights']}\")  \n",
    "    print(f\"Content: {result['line']}\\n\")  \n",
    "    print(f\"Filename: {result['filename']}\\n\")  \n",
    "    print(\"###############################\")"
   ]
  },
  {
   "cell_type": "markdown",
   "metadata": {},
   "source": [
    "### Hybrid Search"
   ]
  },
  {
   "cell_type": "code",
   "execution_count": 7,
   "metadata": {},
   "outputs": [
    {
     "name": "stdout",
     "output_type": "stream",
     "text": [
      "Score: 0.030180182307958603\n",
      "Content: FOR-IT Logistics & Harvesting, FOREST, 2023-06-27 12:49:38, 2023-07-12 10:00:01, INC2586873, Trade 101499609 has wrong state, Trade 101499609 block 1 has wrong state in harvesting schedule. If trade is searched from trade search blocks status is shown as ended. Still there is logging residue forwarding block in harvest schedule with state of \"ohjelmassa\" Block seems to be stuck in schedule and user cannot do anything to that block. Please investigate issue. One possible solution is to change that logging residue forwarding work orders state to Ended., Data Issue, 4 - Low, Closed, Received closure confirmation from user., Solved (Permanently)\n",
      "\n",
      "Filename: incidents_2023_forest.xlsx\n",
      "\n",
      "###############################\n",
      "Score: 0.023060109466314316\n",
      "Content: WSS, FOREST, 2023-03-20 08:10:29, 2023-03-23 09:57:21, INC2567887, WSS, package is in stock, should be out of stock, Delivery note 23176010035 package 375035, this should be out of stock, this package have invoiced, invoice number is 1505913., Configuration Issue, 4 - Low, Closed, As per Sari's suggestion, we have done the operation. Now it looks okay. We are closing the incident., Solved (Permanently)\n",
      "\n",
      "Filename: incidents_2023_forest.xlsx\n",
      "\n",
      "###############################\n",
      "Score: 0.017718857154250145\n",
      "Content: WSS, FOREST, 2023-10-29 02:40:57, 2023-11-07 20:00:07, INC2608340, Major-l00srv2126-cdm__Average (2 samples) disk free on C:\\ is now 15%, which is below the warning threshold (15%) out of total size 91.5 GB, l00srv2126-Major-Average (2 samples) disk free on C:\\ is now 15%, which is below the warning threshold (15%) out of total size 91.5 GB, Data Space, 3 - Moderate, Closed, We removed some old logs now  free space is available ., Solved (Permanently)\n",
      "\n",
      "Filename: incidents_2023_forest.xlsx\n",
      "\n",
      "###############################\n"
     ]
    }
   ],
   "source": [
    "search_client = SearchClient(service_endpoint, index_name, AzureKeyCredential(key))  \n",
    "vector_query = VectorizedQuery(vector=query_vector, \n",
    "                               k_nearest_neighbors=3, \n",
    "                               fields=\"embedding\")\n",
    "\n",
    "results = search_client.search(  \n",
    "    search_text=query,  \n",
    "    vector_queries=[vector_query],\n",
    "    select=[\"line\", \"filename\"],\n",
    "    top=3\n",
    ")  \n",
    "  \n",
    "for result in results:  \n",
    "    print(f\"Score: {result['@search.score']}\")  \n",
    "    print(f\"Content: {result['line']}\\n\")  \n",
    "    print(f\"Filename: {result['filename']}\\n\")  \n",
    "    print(\"###############################\")"
   ]
  },
  {
   "cell_type": "markdown",
   "metadata": {},
   "source": [
    "### Exhaustive KNN exact nearest neighbor search"
   ]
  },
  {
   "cell_type": "code",
   "execution_count": 8,
   "metadata": {},
   "outputs": [
    {
     "name": "stdout",
     "output_type": "stream",
     "text": [
      "Score: 0.794375\n",
      "Content: FOR-IT Logistics & Harvesting, FOREST, 2023-06-27 12:49:38, 2023-07-12 10:00:01, INC2586873, Trade 101499609 has wrong state, Trade 101499609 block 1 has wrong state in harvesting schedule. If trade is searched from trade search blocks status is shown as ended. Still there is logging residue forwarding block in harvest schedule with state of \"ohjelmassa\" Block seems to be stuck in schedule and user cannot do anything to that block. Please investigate issue. One possible solution is to change that logging residue forwarding work orders state to Ended., Data Issue, 4 - Low, Closed, Received closure confirmation from user., Solved (Permanently)\n",
      "\n",
      "Filename: incidents_2023_forest.xlsx\n",
      "\n",
      "###############################\n",
      "Score: 0.79382503\n",
      "Content: WSS, FOREST, 2023-03-20 08:10:29, 2023-03-23 09:57:21, INC2567887, WSS, package is in stock, should be out of stock, Delivery note 23176010035 package 375035, this should be out of stock, this package have invoiced, invoice number is 1505913., Configuration Issue, 4 - Low, Closed, As per Sari's suggestion, we have done the operation. Now it looks okay. We are closing the incident., Solved (Permanently)\n",
      "\n",
      "Filename: incidents_2023_forest.xlsx\n",
      "\n",
      "###############################\n",
      "Score: 0.7937459\n",
      "Content: WSS, FOREST, 2023-10-29 02:40:57, 2023-11-07 20:00:07, INC2608340, Major-l00srv2126-cdm__Average (2 samples) disk free on C:\\ is now 15%, which is below the warning threshold (15%) out of total size 91.5 GB, l00srv2126-Major-Average (2 samples) disk free on C:\\ is now 15%, which is below the warning threshold (15%) out of total size 91.5 GB, Data Space, 3 - Moderate, Closed, We removed some old logs now  free space is available ., Solved (Permanently)\n",
      "\n",
      "Filename: incidents_2023_forest.xlsx\n",
      "\n",
      "###############################\n"
     ]
    }
   ],
   "source": [
    "search_client = SearchClient(service_endpoint, index_name, AzureKeyCredential(key))  \n",
    "vector_query = VectorizedQuery(vector=query_vector, k_nearest_neighbors=3, \n",
    "                               fields=\"embedding\",exhaustive=True)\n",
    "\n",
    "results = search_client.search(  \n",
    "    search_text=None,  \n",
    "    vector_queries=[vector_query],\n",
    "    select=[\"line\", \"filename\"],\n",
    "    top=3\n",
    ")  \n",
    "  \n",
    "for result in results:  \n",
    "    print(f\"Score: {result['@search.score']}\")  \n",
    "    print(f\"Content: {result['line']}\\n\")  \n",
    "    print(f\"Filename: {result['filename']}\\n\")  \n",
    "    print(\"###############################\")"
   ]
  },
  {
   "cell_type": "markdown",
   "metadata": {},
   "source": [
    "### Semantic Hybrid Search"
   ]
  },
  {
   "cell_type": "code",
   "execution_count": 9,
   "metadata": {},
   "outputs": [],
   "source": [
    "search_client = SearchClient(service_endpoint, \n",
    "                             index_name, \n",
    "                             AzureKeyCredential(key))  \n",
    "vector_query = VectorizedQuery(vector=query_vector, \n",
    "                               k_nearest_neighbors=3, \n",
    "                               fields=\"embedding\")\n",
    "\n",
    "results = search_client.search(  \n",
    "    search_text=query,  \n",
    "    vector_queries=[vector_query],\n",
    "    select=[\"line\",\"filename\"],\n",
    "    query_type=QueryType.SEMANTIC, \n",
    "    semantic_configuration_name='my-semantic-config', \n",
    "    query_caption=QueryCaptionType.EXTRACTIVE, \n",
    "    query_answer=QueryAnswerType.EXTRACTIVE,\n",
    "    top=3\n",
    ")  "
   ]
  },
  {
   "cell_type": "code",
   "execution_count": 10,
   "metadata": {},
   "outputs": [
    {
     "ename": "HttpResponseError",
     "evalue": "(FeatureNotSupportedInService) Semantic search is not enabled for this service.\r\nParameter name: queryType\nCode: FeatureNotSupportedInService\nMessage: Semantic search is not enabled for this service.\r\nParameter name: queryType\nException Details:\t(SemanticQueriesNotAvailable) Semantic search is not enabled for this service.\n\tCode: SemanticQueriesNotAvailable\n\tMessage: Semantic search is not enabled for this service.",
     "output_type": "error",
     "traceback": [
      "\u001b[1;31m---------------------------------------------------------------------------\u001b[0m",
      "\u001b[1;31mHttpResponseError\u001b[0m                         Traceback (most recent call last)",
      "Cell \u001b[1;32mIn[10], line 1\u001b[0m\n\u001b[1;32m----> 1\u001b[0m semantic_answers \u001b[38;5;241m=\u001b[39m \u001b[43mresults\u001b[49m\u001b[38;5;241;43m.\u001b[39;49m\u001b[43mget_answers\u001b[49m\u001b[43m(\u001b[49m\u001b[43m)\u001b[49m\n\u001b[0;32m      2\u001b[0m \u001b[38;5;28;01mfor\u001b[39;00m answer \u001b[38;5;129;01min\u001b[39;00m semantic_answers:\n\u001b[0;32m      3\u001b[0m     \u001b[38;5;28;01mif\u001b[39;00m answer\u001b[38;5;241m.\u001b[39mhighlights:\n",
      "File \u001b[1;32mc:\\Users\\belifakb\\Downloads\\UPM\\GEN-AI\\Development\\AZURE-AI-VECTOR-SEARCH\\openaiev\\lib\\site-packages\\azure\\search\\documents\\_paging.py:93\u001b[0m, in \u001b[0;36mSearchItemPaged.get_answers\u001b[1;34m(self)\u001b[0m\n\u001b[0;32m     87\u001b[0m \u001b[38;5;28;01mdef\u001b[39;00m \u001b[38;5;21mget_answers\u001b[39m(\u001b[38;5;28mself\u001b[39m) \u001b[38;5;241m-\u001b[39m\u001b[38;5;241m>\u001b[39m Optional[List[QueryAnswerResult]]:\n\u001b[0;32m     88\u001b[0m \u001b[38;5;250m    \u001b[39m\u001b[38;5;124;03m\"\"\"Return answers.\u001b[39;00m\n\u001b[0;32m     89\u001b[0m \n\u001b[0;32m     90\u001b[0m \u001b[38;5;124;03m    :return: answers\u001b[39;00m\n\u001b[0;32m     91\u001b[0m \u001b[38;5;124;03m    :rtype: list[~azure.search.documents.models.QueryAnswerResult] or None\u001b[39;00m\n\u001b[0;32m     92\u001b[0m \u001b[38;5;124;03m    \"\"\"\u001b[39;00m\n\u001b[1;32m---> 93\u001b[0m     \u001b[38;5;28;01mreturn\u001b[39;00m cast(List[QueryAnswerResult], \u001b[38;5;28;43mself\u001b[39;49m\u001b[38;5;241;43m.\u001b[39;49m\u001b[43m_first_iterator_instance\u001b[49m\u001b[43m(\u001b[49m\u001b[43m)\u001b[49m\u001b[38;5;241;43m.\u001b[39;49m\u001b[43mget_answers\u001b[49m\u001b[43m(\u001b[49m\u001b[43m)\u001b[49m)\n",
      "File \u001b[1;32mc:\\Users\\belifakb\\Downloads\\UPM\\GEN-AI\\Development\\AZURE-AI-VECTOR-SEARCH\\openaiev\\lib\\site-packages\\azure\\search\\documents\\_paging.py:102\u001b[0m, in \u001b[0;36m_ensure_response.<locals>.wrapper\u001b[1;34m(self, *args, **kw)\u001b[0m\n\u001b[0;32m    100\u001b[0m \u001b[38;5;28;01mdef\u001b[39;00m \u001b[38;5;21mwrapper\u001b[39m(\u001b[38;5;28mself\u001b[39m, \u001b[38;5;241m*\u001b[39margs, \u001b[38;5;241m*\u001b[39m\u001b[38;5;241m*\u001b[39mkw):\n\u001b[0;32m    101\u001b[0m     \u001b[38;5;28;01mif\u001b[39;00m \u001b[38;5;28mself\u001b[39m\u001b[38;5;241m.\u001b[39m_current_page \u001b[38;5;129;01mis\u001b[39;00m \u001b[38;5;28;01mNone\u001b[39;00m:\n\u001b[1;32m--> 102\u001b[0m         \u001b[38;5;28mself\u001b[39m\u001b[38;5;241m.\u001b[39m_response \u001b[38;5;241m=\u001b[39m \u001b[38;5;28;43mself\u001b[39;49m\u001b[38;5;241;43m.\u001b[39;49m\u001b[43m_get_next\u001b[49m\u001b[43m(\u001b[49m\u001b[38;5;28;43mself\u001b[39;49m\u001b[38;5;241;43m.\u001b[39;49m\u001b[43mcontinuation_token\u001b[49m\u001b[43m)\u001b[49m\n\u001b[0;32m    103\u001b[0m         \u001b[38;5;28mself\u001b[39m\u001b[38;5;241m.\u001b[39mcontinuation_token, \u001b[38;5;28mself\u001b[39m\u001b[38;5;241m.\u001b[39m_current_page \u001b[38;5;241m=\u001b[39m \u001b[38;5;28mself\u001b[39m\u001b[38;5;241m.\u001b[39m_extract_data(\u001b[38;5;28mself\u001b[39m\u001b[38;5;241m.\u001b[39m_response)\n\u001b[0;32m    104\u001b[0m     \u001b[38;5;28;01mreturn\u001b[39;00m f(\u001b[38;5;28mself\u001b[39m, \u001b[38;5;241m*\u001b[39margs, \u001b[38;5;241m*\u001b[39m\u001b[38;5;241m*\u001b[39mkw)\n",
      "File \u001b[1;32mc:\\Users\\belifakb\\Downloads\\UPM\\GEN-AI\\Development\\AZURE-AI-VECTOR-SEARCH\\openaiev\\lib\\site-packages\\azure\\search\\documents\\_paging.py:124\u001b[0m, in \u001b[0;36mSearchPageIterator._get_next_cb\u001b[1;34m(self, continuation_token)\u001b[0m\n\u001b[0;32m    122\u001b[0m \u001b[38;5;28;01mdef\u001b[39;00m \u001b[38;5;21m_get_next_cb\u001b[39m(\u001b[38;5;28mself\u001b[39m, continuation_token):\n\u001b[0;32m    123\u001b[0m     \u001b[38;5;28;01mif\u001b[39;00m continuation_token \u001b[38;5;129;01mis\u001b[39;00m \u001b[38;5;28;01mNone\u001b[39;00m:\n\u001b[1;32m--> 124\u001b[0m         \u001b[38;5;28;01mreturn\u001b[39;00m \u001b[38;5;28mself\u001b[39m\u001b[38;5;241m.\u001b[39m_client\u001b[38;5;241m.\u001b[39mdocuments\u001b[38;5;241m.\u001b[39msearch_post(search_request\u001b[38;5;241m=\u001b[39m\u001b[38;5;28mself\u001b[39m\u001b[38;5;241m.\u001b[39m_initial_query\u001b[38;5;241m.\u001b[39mrequest, \u001b[38;5;241m*\u001b[39m\u001b[38;5;241m*\u001b[39m\u001b[38;5;28mself\u001b[39m\u001b[38;5;241m.\u001b[39m_kwargs)\n\u001b[0;32m    126\u001b[0m     _next_link, next_page_request \u001b[38;5;241m=\u001b[39m unpack_continuation_token(continuation_token)\n\u001b[0;32m    128\u001b[0m     \u001b[38;5;28;01mreturn\u001b[39;00m \u001b[38;5;28mself\u001b[39m\u001b[38;5;241m.\u001b[39m_client\u001b[38;5;241m.\u001b[39mdocuments\u001b[38;5;241m.\u001b[39msearch_post(search_request\u001b[38;5;241m=\u001b[39mnext_page_request, \u001b[38;5;241m*\u001b[39m\u001b[38;5;241m*\u001b[39m\u001b[38;5;28mself\u001b[39m\u001b[38;5;241m.\u001b[39m_kwargs)\n",
      "File \u001b[1;32mc:\\Users\\belifakb\\Downloads\\UPM\\GEN-AI\\Development\\AZURE-AI-VECTOR-SEARCH\\openaiev\\lib\\site-packages\\azure\\core\\tracing\\decorator.py:78\u001b[0m, in \u001b[0;36mdistributed_trace.<locals>.decorator.<locals>.wrapper_use_tracer\u001b[1;34m(*args, **kwargs)\u001b[0m\n\u001b[0;32m     76\u001b[0m span_impl_type \u001b[38;5;241m=\u001b[39m settings\u001b[38;5;241m.\u001b[39mtracing_implementation()\n\u001b[0;32m     77\u001b[0m \u001b[38;5;28;01mif\u001b[39;00m span_impl_type \u001b[38;5;129;01mis\u001b[39;00m \u001b[38;5;28;01mNone\u001b[39;00m:\n\u001b[1;32m---> 78\u001b[0m     \u001b[38;5;28;01mreturn\u001b[39;00m func(\u001b[38;5;241m*\u001b[39margs, \u001b[38;5;241m*\u001b[39m\u001b[38;5;241m*\u001b[39mkwargs)\n\u001b[0;32m     80\u001b[0m \u001b[38;5;66;03m# Merge span is parameter is set, but only if no explicit parent are passed\u001b[39;00m\n\u001b[0;32m     81\u001b[0m \u001b[38;5;28;01mif\u001b[39;00m merge_span \u001b[38;5;129;01mand\u001b[39;00m \u001b[38;5;129;01mnot\u001b[39;00m passed_in_parent:\n",
      "File \u001b[1;32mc:\\Users\\belifakb\\Downloads\\UPM\\GEN-AI\\Development\\AZURE-AI-VECTOR-SEARCH\\openaiev\\lib\\site-packages\\azure\\search\\documents\\_generated\\operations\\_documents_operations.py:756\u001b[0m, in \u001b[0;36mDocumentsOperations.search_post\u001b[1;34m(self, search_request, request_options, **kwargs)\u001b[0m\n\u001b[0;32m    754\u001b[0m     map_error(status_code\u001b[38;5;241m=\u001b[39mresponse\u001b[38;5;241m.\u001b[39mstatus_code, response\u001b[38;5;241m=\u001b[39mresponse, error_map\u001b[38;5;241m=\u001b[39merror_map)\n\u001b[0;32m    755\u001b[0m     error \u001b[38;5;241m=\u001b[39m \u001b[38;5;28mself\u001b[39m\u001b[38;5;241m.\u001b[39m_deserialize\u001b[38;5;241m.\u001b[39mfailsafe_deserialize(_models\u001b[38;5;241m.\u001b[39mSearchError, pipeline_response)\n\u001b[1;32m--> 756\u001b[0m     \u001b[38;5;28;01mraise\u001b[39;00m HttpResponseError(response\u001b[38;5;241m=\u001b[39mresponse, model\u001b[38;5;241m=\u001b[39merror)\n\u001b[0;32m    758\u001b[0m deserialized \u001b[38;5;241m=\u001b[39m \u001b[38;5;28mself\u001b[39m\u001b[38;5;241m.\u001b[39m_deserialize(\u001b[38;5;124m\"\u001b[39m\u001b[38;5;124mSearchDocumentsResult\u001b[39m\u001b[38;5;124m\"\u001b[39m, pipeline_response)\n\u001b[0;32m    760\u001b[0m \u001b[38;5;28;01mif\u001b[39;00m \u001b[38;5;28mcls\u001b[39m:\n",
      "\u001b[1;31mHttpResponseError\u001b[0m: (FeatureNotSupportedInService) Semantic search is not enabled for this service.\r\nParameter name: queryType\nCode: FeatureNotSupportedInService\nMessage: Semantic search is not enabled for this service.\r\nParameter name: queryType\nException Details:\t(SemanticQueriesNotAvailable) Semantic search is not enabled for this service.\n\tCode: SemanticQueriesNotAvailable\n\tMessage: Semantic search is not enabled for this service."
     ]
    }
   ],
   "source": [
    "semantic_answers = results.get_answers()\n",
    "for answer in semantic_answers:\n",
    "    if answer.highlights:\n",
    "        print(f\"Semantic Answer: {answer.highlights}\")\n",
    "    else:\n",
    "        print(f\"Semantic Answer: {answer.text}\")\n",
    "    print(f\"Semantic Answer Score: {answer.score}\\n\")"
   ]
  },
  {
   "cell_type": "code",
   "execution_count": null,
   "metadata": {},
   "outputs": [],
   "source": [
    "semantic_answers"
   ]
  },
  {
   "cell_type": "code",
   "execution_count": null,
   "metadata": {},
   "outputs": [],
   "source": [
    "for result in results:\n",
    "    print(f\"Reranker Score: {result['@search.reranker_score']}\")\n",
    "    print(f\"Content: {result['line']}\\n\")\n",
    "\n",
    "    captions = result[\"@search.captions\"]\n",
    "    if captions:\n",
    "        caption = captions[0]\n",
    "        if caption.highlights:\n",
    "            print(f\"Caption: {caption.highlights}\\n\")\n",
    "        else:\n",
    "            print(f\"Caption: {caption.text}\\n\")\n",
    "            "
   ]
  },
  {
   "cell_type": "code",
   "execution_count": null,
   "metadata": {},
   "outputs": [],
   "source": []
  }
 ],
 "metadata": {
  "kernelspec": {
   "display_name": ".venv311",
   "language": "python",
   "name": "python3"
  },
  "language_info": {
   "codemirror_mode": {
    "name": "ipython",
    "version": 3
   },
   "file_extension": ".py",
   "mimetype": "text/x-python",
   "name": "python",
   "nbconvert_exporter": "python",
   "pygments_lexer": "ipython3",
   "version": "3.10.2"
  }
 },
 "nbformat": 4,
 "nbformat_minor": 2
}
